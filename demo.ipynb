{
 "cells": [
  {
   "cell_type": "markdown",
   "id": "de1c0b61-f2de-4bd5-b816-8ef7903dcefb",
   "metadata": {},
   "source": [
    "### first i installed gradio"
   ]
  },
  {
   "cell_type": "markdown",
   "id": "79c3513d-a712-4a09-bb36-92d0dc3e4356",
   "metadata": {},
   "source": [
    "mamba install gradio"
   ]
  },
  {
   "cell_type": "code",
   "execution_count": 1,
   "id": "65e6fb26-7054-4518-9bbe-8fabe1635774",
   "metadata": {},
   "outputs": [],
   "source": [
    "import gradio as gr"
   ]
  },
  {
   "cell_type": "markdown",
   "id": "107ee74b-854d-473b-8d24-4fc780484cd5",
   "metadata": {},
   "source": [
    "### heres a demo of gradio's gui and capabilities\n",
    "\n",
    "the key is the Interface object: demo"
   ]
  },
  {
   "cell_type": "code",
   "execution_count": 3,
   "id": "482f9407-6948-46d1-8003-0946b5f44226",
   "metadata": {},
   "outputs": [
    {
     "name": "stdout",
     "output_type": "stream",
     "text": [
      "Running on local URL:  http://127.0.0.1:7861\n",
      "Running on public URL: https://7fd98f14b869d79c29.gradio.live\n",
      "\n",
      "This share link expires in 72 hours. For free permanent hosting and GPU upgrades (NEW!), check out Spaces: https://huggingface.co/spaces\n"
     ]
    },
    {
     "data": {
      "text/html": [
       "<div><iframe src=\"https://7fd98f14b869d79c29.gradio.live\" width=\"100%\" height=\"500\" allow=\"autoplay; camera; microphone; clipboard-read; clipboard-write;\" frameborder=\"0\" allowfullscreen></iframe></div>"
      ],
      "text/plain": [
       "<IPython.core.display.HTML object>"
      ]
     },
     "metadata": {},
     "output_type": "display_data"
    },
    {
     "data": {
      "text/plain": []
     },
     "execution_count": 3,
     "metadata": {},
     "output_type": "execute_result"
    }
   ],
   "source": [
    "def greet(name):\n",
    "    return \"Hello \" + name + \"!\"\n",
    "\n",
    "demo = gr.Interface(fn=greet, inputs=\"text\", outputs=\"text\")\n",
    "    \n",
    "demo.launch(share=True) "
   ]
  }
 ],
 "metadata": {
  "kernelspec": {
   "display_name": "Python 3 (ipykernel)",
   "language": "python",
   "name": "python3"
  },
  "language_info": {
   "codemirror_mode": {
    "name": "ipython",
    "version": 3
   },
   "file_extension": ".py",
   "mimetype": "text/x-python",
   "name": "python",
   "nbconvert_exporter": "python",
   "pygments_lexer": "ipython3",
   "version": "3.10.12"
  }
 },
 "nbformat": 4,
 "nbformat_minor": 5
}
